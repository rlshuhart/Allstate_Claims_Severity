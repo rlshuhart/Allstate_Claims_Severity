{
 "cells": [
  {
   "cell_type": "code",
   "execution_count": 9,
   "metadata": {
    "collapsed": false
   },
   "outputs": [],
   "source": [
    "import pandas as pd\n",
    "from tpot import TPOTRegressor\n",
    "from sklearn.model_selection import train_test_split\n",
    "\n",
    "train = pd.read_csv(\"../data/raw/train.csv.zip\", compression=\"zip\", usecols=['loss'])\n",
    "train_final1 = pd.read_csv(\"../data/interim/train_binary_encoded.csv\")\n",
    "X=train_final1#.values\n",
    "y=train['loss']#.values\n",
    "\n",
    "X_train, X_test, y_train, y_test = train_test_split(X, y,train_size=0.1, test_size=0.1)\n",
    "\n",
    "tpot = TPOTRegressor(generations=5, population_size=20, verbosity=3, scoring='mean_absolute_error')\n",
    "tpot.fit(X_train, y_train)\n",
    "print(tpot.score(X_test, y_test))\n",
    "tpot.export('../models/tpot_pipeline.py')"
   ]
  },
  {
   "cell_type": "code",
   "execution_count": null,
   "metadata": {
    "collapsed": true
   },
   "outputs": [],
   "source": []
  }
 ],
 "metadata": {
  "anaconda-cloud": {},
  "kernelspec": {
   "display_name": "Python [default]",
   "language": "python",
   "name": "python3"
  },
  "language_info": {
   "codemirror_mode": {
    "name": "ipython",
    "version": 3
   },
   "file_extension": ".py",
   "mimetype": "text/x-python",
   "name": "python",
   "nbconvert_exporter": "python",
   "pygments_lexer": "ipython3",
   "version": "3.5.2"
  }
 },
 "nbformat": 4,
 "nbformat_minor": 1
}
